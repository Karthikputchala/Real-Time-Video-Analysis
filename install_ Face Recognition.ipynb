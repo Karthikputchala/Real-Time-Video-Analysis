{
 "cells": [
  {
   "cell_type": "code",
   "execution_count": 1,
   "id": "f33b2f5f",
   "metadata": {},
   "outputs": [
    {
     "name": "stdout",
     "output_type": "stream",
     "text": [
      "Collecting opencv-python\n",
      "  Using cached opencv_python-4.7.0.68-cp37-abi3-win_amd64.whl (38.2 MB)\n",
      "Collecting numpy>=1.19.3\n",
      "  Using cached numpy-1.24.1-cp39-cp39-win_amd64.whl (14.9 MB)\n",
      "Installing collected packages: numpy, opencv-python\n",
      "Successfully installed numpy-1.24.1 opencv-python-4.7.0.68\n"
     ]
    }
   ],
   "source": [
    "!pip install opencv-python"
   ]
  },
  {
   "cell_type": "code",
   "execution_count": 2,
   "id": "2f8793cc",
   "metadata": {},
   "outputs": [],
   "source": [
    "import cv2"
   ]
  },
  {
   "cell_type": "code",
   "execution_count": 3,
   "id": "f65570b0",
   "metadata": {},
   "outputs": [
    {
     "name": "stdout",
     "output_type": "stream",
     "text": [
      "Microsoft Windows [Version 10.0.22000.1335]\n",
      "(c) Microsoft Corporation. All rights reserved.\n",
      "\n",
      "(find-me) C:\\Users\\personal\\Projects\\find-me>where python\n",
      "C:\\Users\\personal\\anaconda3\\envs\\find-me\\python.exe\n",
      "C:\\Users\\personal\\anaconda3\\python.exe\n",
      "C:\\Users\\personal\\AppData\\Local\\Microsoft\\WindowsApps\\python.exe\n",
      "\n",
      "(find-me) C:\\Users\\personal\\Projects\\find-me>"
     ]
    }
   ],
   "source": [
    "%%cmd\n",
    "where python"
   ]
  },
  {
   "cell_type": "code",
   "execution_count": 4,
   "id": "70707f48",
   "metadata": {},
   "outputs": [
    {
     "name": "stdout",
     "output_type": "stream",
     "text": [
      "Microsoft Windows [Version 10.0.22000.1335]\n",
      "(c) Microsoft Corporation. All rights reserved.\n",
      "\n",
      "(find-me) C:\\Users\\personal\\Projects\\find-me>python --version\n",
      "Python 3.9.16\n",
      "\n",
      "(find-me) C:\\Users\\personal\\Projects\\find-me>"
     ]
    }
   ],
   "source": [
    "%%cmd \n",
    "python --version\n"
   ]
  },
  {
   "cell_type": "code",
   "execution_count": 5,
   "id": "969db1fc",
   "metadata": {},
   "outputs": [
    {
     "name": "stdout",
     "output_type": "stream",
     "text": [
      "Microsoft Windows [Version 10.0.22000.1335]\n",
      "(c) Microsoft Corporation. All rights reserved.\n",
      "\n",
      "(find-me) C:\\Users\\personal\\Projects\\find-me>pip install cmake\n",
      "Collecting cmake\n",
      "  Using cached cmake-3.25.0-py2.py3-none-win_amd64.whl (32.6 MB)\n",
      "Installing collected packages: cmake\n",
      "Successfully installed cmake-3.25.0\n",
      "\n",
      "(find-me) C:\\Users\\personal\\Projects\\find-me>"
     ]
    }
   ],
   "source": [
    "%%cmd\n",
    "pip install cmake"
   ]
  },
  {
   "cell_type": "code",
   "execution_count": 6,
   "id": "dba9b303",
   "metadata": {},
   "outputs": [
    {
     "name": "stdout",
     "output_type": "stream",
     "text": [
      "Microsoft Windows [Version 10.0.22000.1335]\n",
      "(c) Microsoft Corporation. All rights reserved.\n",
      "\n",
      "(find-me) C:\\Users\\personal\\Projects\\find-me>pip install \"C:\\Users\\personal\\Projects\\find-me\\Dlib-python whl packages\\dlib-19.22.99-cp39-cp39-win_amd64.whl\"\n",
      "Processing c:\\users\\personal\\projects\\find-me\\dlib-python whl packages\\dlib-19.22.99-cp39-cp39-win_amd64.whl\n",
      "Installing collected packages: dlib\n",
      "Successfully installed dlib-19.22.99\n",
      "\n",
      "(find-me) C:\\Users\\personal\\Projects\\find-me>"
     ]
    }
   ],
   "source": [
    "%%cmd\n",
    "pip install \"C:\\Users\\personal\\Projects\\find-me\\Dlib-python whl packages\\dlib-19.22.99-cp39-cp39-win_amd64.whl\""
   ]
  },
  {
   "cell_type": "code",
   "execution_count": 7,
   "id": "36a1873a",
   "metadata": {},
   "outputs": [
    {
     "name": "stdout",
     "output_type": "stream",
     "text": [
      "Microsoft Windows [Version 10.0.22000.1335]\n",
      "(c) Microsoft Corporation. All rights reserved.\n",
      "\n",
      "(find-me) C:\\Users\\personal\\Projects\\find-me>pip install face-recognition\n",
      "Collecting face-recognition\n",
      "  Using cached face_recognition-1.3.0-py2.py3-none-any.whl (15 kB)\n",
      "Requirement already satisfied: dlib>=19.7 in c:\\users\\personal\\anaconda3\\envs\\find-me\\lib\\site-packages (from face-recognition) (19.22.99)\n",
      "Requirement already satisfied: numpy in c:\\users\\personal\\anaconda3\\envs\\find-me\\lib\\site-packages (from face-recognition) (1.24.1)\n",
      "Collecting Pillow\n",
      "  Using cached Pillow-9.4.0-cp39-cp39-win_amd64.whl (2.5 MB)\n",
      "Collecting face-recognition-models>=0.3.0\n",
      "  Using cached face_recognition_models-0.3.0-py2.py3-none-any.whl\n",
      "Collecting Click>=6.0\n",
      "  Using cached click-8.1.3-py3-none-any.whl (96 kB)\n",
      "Requirement already satisfied: colorama in c:\\users\\personal\\anaconda3\\envs\\find-me\\lib\\site-packages (from Click>=6.0->face-recognition) (0.4.6)\n",
      "Installing collected packages: face-recognition-models, Pillow, Click, face-recognition\n",
      "Successfully installed Click-8.1.3 Pillow-9.4.0 face-recognition-1.3.0 face-recognition-models-0.3.0\n",
      "\n",
      "(find-me) C:\\Users\\personal\\Projects\\find-me>"
     ]
    }
   ],
   "source": [
    "%%cmd\n",
    "pip install face-recognition"
   ]
  },
  {
   "cell_type": "code",
   "execution_count": null,
   "id": "dfb68b9e",
   "metadata": {},
   "outputs": [],
   "source": []
  }
 ],
 "metadata": {
  "kernelspec": {
   "display_name": "find-me",
   "language": "python",
   "name": "python3"
  },
  "language_info": {
   "codemirror_mode": {
    "name": "ipython",
    "version": 3
   },
   "file_extension": ".py",
   "mimetype": "text/x-python",
   "name": "python",
   "nbconvert_exporter": "python",
   "pygments_lexer": "ipython3",
   "version": "3.9.16 (main, Jan 11 2023, 16:16:36) [MSC v.1916 64 bit (AMD64)]"
  },
  "vscode": {
   "interpreter": {
    "hash": "4ab1c47844400d3fccef7f8113d6d93795936dd56d771d3cbc69981963773093"
   }
  }
 },
 "nbformat": 4,
 "nbformat_minor": 5
}
